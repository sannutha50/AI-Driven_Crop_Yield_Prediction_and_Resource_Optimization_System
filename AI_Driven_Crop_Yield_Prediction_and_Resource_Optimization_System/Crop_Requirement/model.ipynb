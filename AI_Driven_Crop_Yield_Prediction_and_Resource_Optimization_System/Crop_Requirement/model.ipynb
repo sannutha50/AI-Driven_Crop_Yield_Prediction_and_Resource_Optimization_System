{
 "cells": [
  {
   "cell_type": "code",
   "execution_count": 1,
   "metadata": {},
   "outputs": [],
   "source": [
    "import pandas as pd\n",
    "import numpy as np\n",
    "import seaborn as sns\n",
    "import matplotlib.pyplot as plt\n",
    "from sklearn.model_selection import train_test_split, cross_val_score, StratifiedKFold\n",
    "from sklearn.preprocessing import StandardScaler, OneHotEncoder\n",
    "from sklearn.ensemble import GradientBoostingClassifier\n",
    "from sklearn.metrics import accuracy_score, classification_report\n",
    "import pickle\n",
    "import joblib"
   ]
  },
  {
   "cell_type": "code",
   "execution_count": 2,
   "metadata": {},
   "outputs": [],
   "source": [
    "# Load dataset\n",
    "df = pd.read_csv(\"crop_growth_updated_dataset.csv\")\n",
    "df = df.drop(columns=['Recommendation'])"
   ]
  },
  {
   "cell_type": "code",
   "execution_count": 3,
   "metadata": {},
   "outputs": [],
   "source": [
    "# Separate targets\n",
    "y_water = df['Water Requirement']\n",
    "y_temp = df['Temperature Requirement']"
   ]
  },
  {
   "cell_type": "code",
   "execution_count": 4,
   "metadata": {},
   "outputs": [],
   "source": [
    "\n",
    "# One-hot encode features\n",
    "encoder = OneHotEncoder(sparse_output=False, handle_unknown='ignore')\n",
    "encoded_cols = encoder.fit_transform(df[['Crop', 'Growth Stage', 'Soil Type', 'Location']])\n",
    "encoded_df = pd.DataFrame(encoded_cols, columns=encoder.get_feature_names_out(['Crop', 'Growth Stage', 'Soil Type', 'Location']))\n",
    "df = pd.concat([df.drop(columns=['Crop', 'Growth Stage', 'Soil Type', 'Location']), encoded_df], axis=1)\n"
   ]
  },
  {
   "cell_type": "code",
   "execution_count": 5,
   "metadata": {},
   "outputs": [],
   "source": [
    "\n",
    "# Select all features\n",
    "feature_columns = [col for col in df.columns if col not in ['Water Requirement', 'Temperature Requirement']]\n",
    "X = df[feature_columns]\n",
    "\n",
    "# Introduce controlled noise to break perfect determinism\n",
    "np.random.seed(42)\n",
    "noise_level = 0.25  # Adjust this to control accuracy (0.15-0.30 for 75-85% accuracy)\n",
    "\n",
    "def add_noise(y_series, noise_level):\n",
    "    classes = y_series.unique()\n",
    "    mask = np.random.rand(len(y_series)) < noise_level\n",
    "    y_noisy = y_series.copy()\n",
    "    y_noisy[mask] = np.random.choice(classes, size=mask.sum())\n",
    "    return y_noisy\n",
    "\n",
    "y_water_noisy = add_noise(y_water, noise_level)\n",
    "y_temp_noisy = add_noise(y_temp, noise_level)\n"
   ]
  },
  {
   "cell_type": "code",
   "execution_count": 6,
   "metadata": {},
   "outputs": [],
   "source": [
    "# Encode targets\n",
    "label_encoders_target_water = {label: idx for idx, label in enumerate(y_water_noisy.unique())}\n",
    "y_water_encoded = y_water_noisy.map(label_encoders_target_water)\n",
    "\n",
    "label_encoders_target_temp = {label: idx for idx, label in enumerate(y_temp_noisy.unique())}\n",
    "y_temp_encoded = y_temp_noisy.map(label_encoders_target_temp)"
   ]
  },
  {
   "cell_type": "code",
   "execution_count": 7,
   "metadata": {},
   "outputs": [],
   "source": [
    "# Train-test split\n",
    "X_train, X_test, y_water_train, y_water_test, y_temp_train, y_temp_test = train_test_split(\n",
    "    X, y_water_encoded, y_temp_encoded, test_size=0.3, random_state=42\n",
    ")"
   ]
  },
  {
   "cell_type": "code",
   "execution_count": 8,
   "metadata": {},
   "outputs": [],
   "source": [
    "\n",
    "# Standardize\n",
    "scaler = StandardScaler()\n",
    "X_train_scaled = scaler.fit_transform(X_train)\n",
    "X_test_scaled = scaler.transform(X_test)"
   ]
  },
  {
   "cell_type": "code",
   "execution_count": 9,
   "metadata": {},
   "outputs": [],
   "source": [
    "\n",
    "\n",
    "gb_water = GradientBoostingClassifier(\n",
    "    n_estimators=100,\n",
    "    learning_rate=0.1,\n",
    "    max_depth=3,\n",
    "    min_samples_leaf=5,\n",
    "    subsample=0.8,\n",
    "    random_state=42\n",
    ")\n",
    "\n",
    "gb_temp = GradientBoostingClassifier(\n",
    "    n_estimators=100,\n",
    "    learning_rate=0.1,\n",
    "    max_depth=3,\n",
    "    min_samples_leaf=5,\n",
    "    subsample=0.8,\n",
    "    random_state=42\n",
    ")"
   ]
  },
  {
   "cell_type": "code",
   "execution_count": 10,
   "metadata": {},
   "outputs": [
    {
     "name": "stdout",
     "output_type": "stream",
     "text": [
      "Water Requirement Model:\n",
      "              precision    recall  f1-score   support\n",
      "\n",
      "           0       0.85      0.89      0.87       263\n",
      "           1       0.81      0.81      0.81       191\n",
      "           2       0.76      0.70      0.73       146\n",
      "\n",
      "    accuracy                           0.82       600\n",
      "   macro avg       0.81      0.80      0.80       600\n",
      "weighted avg       0.82      0.82      0.82       600\n",
      "\n",
      "Test Accuracy: 0.8183\n",
      "\n",
      "Temperature Requirement Model:\n",
      "              precision    recall  f1-score   support\n",
      "\n",
      "           0       0.75      0.91      0.82       159\n",
      "           1       0.78      0.68      0.73        76\n",
      "           2       0.84      0.69      0.76        85\n",
      "           3       0.81      0.82      0.82       125\n",
      "           4       0.79      0.74      0.77        78\n",
      "           5       0.85      0.79      0.82        77\n",
      "\n",
      "    accuracy                           0.80       600\n",
      "   macro avg       0.80      0.77      0.79       600\n",
      "weighted avg       0.80      0.80      0.79       600\n",
      "\n",
      "Test Accuracy: 0.7950\n"
     ]
    }
   ],
   "source": [
    "\n",
    "\n",
    "# Train and evaluate\n",
    "gb_water.fit(X_train_scaled, y_water_train)\n",
    "gb_temp.fit(X_train_scaled, y_temp_train)\n",
    "\n",
    "\n",
    "\n",
    "# Save models using joblib\n",
    "joblib.dump({\n",
    "    'model': gb_water,\n",
    "    'labels': label_encoders_target_water\n",
    "}, \"gb_water.joblib\")\n",
    "\n",
    "joblib.dump({\n",
    "    'model': gb_temp,\n",
    "    'labels': label_encoders_target_temp\n",
    "}, \"gb_temp.joblib\")\n",
    "\n",
    "joblib.dump({\n",
    "    'scaler': scaler,\n",
    "    'encoder': encoder\n",
    "}, \"scaler.joblib\")\n",
    "\n",
    "\n",
    "\n",
    "y_water_pred = gb_water.predict(X_test_scaled)\n",
    "y_temp_pred = gb_temp.predict(X_test_scaled)\n",
    "\n",
    "print(\"Water Requirement Model:\")\n",
    "print(classification_report(y_water_test, y_water_pred))\n",
    "print(f\"Test Accuracy: {accuracy_score(y_water_test, y_water_pred):.4f}\")\n",
    "\n",
    "print(\"\\nTemperature Requirement Model:\")\n",
    "print(classification_report(y_temp_test, y_temp_pred))\n",
    "print(f\"Test Accuracy: {accuracy_score(y_temp_test, y_temp_pred):.4f}\")"
   ]
  },
  {
   "cell_type": "code",
   "execution_count": 11,
   "metadata": {},
   "outputs": [
    {
     "name": "stdout",
     "output_type": "stream",
     "text": [
      "\n",
      "CV Accuracy Water: 0.8200 (±0.0096)\n",
      "CV Accuracy Temperature: 0.7945 (±0.0221)\n"
     ]
    }
   ],
   "source": [
    "\n",
    "\n",
    "# Cross-validation\n",
    "cv = StratifiedKFold(n_splits=5, shuffle=True, random_state=42)\n",
    "cv_scores_water = cross_val_score(gb_water, scaler.transform(X), y_water_encoded, cv=cv, scoring='accuracy')\n",
    "cv_scores_temp = cross_val_score(gb_temp, scaler.transform(X), y_temp_encoded, cv=cv, scoring='accuracy')\n",
    "\n",
    "print(f\"\\nCV Accuracy Water: {np.mean(cv_scores_water):.4f} (±{np.std(cv_scores_water):.4f})\")\n",
    "print(f\"CV Accuracy Temperature: {np.mean(cv_scores_temp):.4f} (±{np.std(cv_scores_temp):.4f})\")"
   ]
  },
  {
   "cell_type": "code",
   "execution_count": 12,
   "metadata": {},
   "outputs": [],
   "source": [
    "# Dump the trained GradientBoosting models with Pickle\n",
    "XB_pkl_filename = 'GBoost_water.pkl'  # Filename for the water requirement model\n",
    "# Open the file to save as pkl file\n",
    "with open(XB_pkl_filename, 'wb') as XB_Model_pkl:\n",
    "    pickle.dump(gb_water, XB_Model_pkl)  # Use gb_water model\n",
    "\n",
    "# Optionally, for the temperature model, you can do the same\n",
    "XB_pkl_filename_temp = 'GBoost_temp.pkl'  # Filename for the temperature requirement model\n",
    "with open(XB_pkl_filename_temp, 'wb') as XB_Model_pkl_temp:\n",
    "    pickle.dump(gb_temp, XB_Model_pkl_temp)  # Use gb_temp model\n"
   ]
  },
  {
   "cell_type": "code",
   "execution_count": null,
   "metadata": {},
   "outputs": [],
   "source": []
  },
  {
   "cell_type": "code",
   "execution_count": null,
   "metadata": {},
   "outputs": [],
   "source": []
  },
  {
   "cell_type": "code",
   "execution_count": null,
   "metadata": {},
   "outputs": [],
   "source": []
  },
  {
   "cell_type": "code",
   "execution_count": null,
   "metadata": {},
   "outputs": [],
   "source": []
  },
  {
   "cell_type": "code",
   "execution_count": null,
   "metadata": {},
   "outputs": [],
   "source": []
  }
 ],
 "metadata": {
  "kernelspec": {
   "display_name": "Python 3 (ipykernel)",
   "language": "python",
   "name": "python3"
  },
  "language_info": {
   "codemirror_mode": {
    "name": "ipython",
    "version": 3
   },
   "file_extension": ".py",
   "mimetype": "text/x-python",
   "name": "python",
   "nbconvert_exporter": "python",
   "pygments_lexer": "ipython3",
   "version": "3.10.9"
  }
 },
 "nbformat": 4,
 "nbformat_minor": 4
}
